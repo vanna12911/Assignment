{
  "nbformat": 4,
  "nbformat_minor": 0,
  "metadata": {
    "colab": {
      "provenance": []
    },
    "kernelspec": {
      "name": "python3",
      "display_name": "Python 3"
    },
    "language_info": {
      "name": "python"
    }
  },
  "cells": [
    {
      "cell_type": "code",
      "source": [
        "#  ANS(1):\n",
        "\n",
        "list1 = [1,2,3,4, [44,55,66, True], False, (34,56,78,89,34), {1,2,3,3,2,1}, {1:34, \"key2\": [55, 67, 78, 89], 4: (45, 22, 61, 34)}, [56, 'data science'], 'Machine Learning']\n",
        "\n",
        "from functools import reduce\n",
        "\n",
        "def product_of_numbers(l):\n",
        "\n",
        "  n=[]\n",
        "\n",
        "  for i in l:\n",
        "\n",
        "    if type(i)==list:\n",
        "      for j in i:\n",
        "        if type(j) == int:\n",
        "          n.append(j)\n",
        "\n",
        "    elif type(i) == tuple:\n",
        "      for j in i:\n",
        "        if type(j) ==int:\n",
        "          n.append(j)\n",
        "\n",
        "    elif type(i)== dict:\n",
        "      for j,k in i.items():\n",
        "        if type(j)==int:\n",
        "          n.append(j)\n",
        "        if type(k)==int:\n",
        "          n.append(k)\n",
        "\n",
        "    elif type(i) ==int:\n",
        "      n.append(i)\n",
        "\n",
        "\n",
        "\n",
        "  return reduce(lambda x,y : x*y , n)\n",
        "              \n",
        "product_of_numbers(list1)   "
      ],
      "metadata": {
        "colab": {
          "base_uri": "https://localhost:8080/"
        },
        "id": "83dTod3oqeqi",
        "outputId": "0638d0ff-4d8d-4e3c-fb0f-8ee2ac09d0a1"
      },
      "execution_count": 46,
      "outputs": [
        {
          "output_type": "execute_result",
          "data": {
            "text/plain": [
              "13119822185539829760"
            ]
          },
          "metadata": {},
          "execution_count": 46
        }
      ]
    },
    {
      "cell_type": "code",
      "source": [
        "#ANS(2):\n",
        "\n",
        "str1 = \"I want to become a Data Scientist.\"\n",
        "def modification(str2):\n",
        "  str2 = str2.lower()\n",
        "  str2=str2.replace('a',\"z\").replace('b','y').replace('c','x').replace(\" \",\"$\")\n",
        "\n",
        "  return str2\n",
        "\n",
        "modification(str1)  "
      ],
      "metadata": {
        "colab": {
          "base_uri": "https://localhost:8080/",
          "height": 36
        },
        "id": "8aKZSwiHq4--",
        "outputId": "b46d739a-283b-4193-c4ef-b266bf6388b5"
      },
      "execution_count": 47,
      "outputs": [
        {
          "output_type": "execute_result",
          "data": {
            "text/plain": [
              "'i$wznt$to$yexome$z$dztz$sxientist.'"
            ],
            "application/vnd.google.colaboratory.intrinsic+json": {
              "type": "string"
            }
          },
          "metadata": {},
          "execution_count": 47
        }
      ]
    }
  ]
}