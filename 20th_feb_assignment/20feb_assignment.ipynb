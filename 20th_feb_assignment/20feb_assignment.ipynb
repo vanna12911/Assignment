{
 "cells": [
  {
   "attachments": {},
   "cell_type": "markdown",
   "metadata": {},
   "source": [
    "### ANS 1.\n",
    "\n",
    "<b>GET</b>:   The Hypertext Transfer Protocol(HTTP) Get method is mainly used at the client (Browser) side to send a request to a specified server to get certain data or resources. Using this method the server should only let us receive the data and not change its state. Hence it is only used to view something and not to change it. Get method is one of the most used HTTP method. The request parameter of the get method is appended to the URL. Get request is better for the data which does not need to be secure (It means the data which does not contain images or word documents).\n",
    "\n",
    "<b>POST</b>:  he Hypertext Transfer Protocol(HTTP) Post method is mainly used at the client (Browser) side to send data to a Specified server in order to create or rewrite a particular resource/data. This data sent to the server is stored in the request body of the HTTP request. Post method eventually leads to the creation of a new resource or updating an existing one. Due to this dynamic use, it is one of the most used HTTP methods. It is not one of the most secure methods because the data that is been sent is included in the body of the request and not in the URL. Post request is better for the data which needs to be secure (It means the data which contains images or word documents)"
   ]
  },
  {
   "attachments": {},
   "cell_type": "markdown",
   "metadata": {},
   "source": [
    "### ANS 2.\n",
    "\n",
    "In Flask, request is a built-in global variable that represents the incoming client request. It contains relevant information about the request such as form data, cookies, headers, and files uploaded with the request.\n",
    "To access the incoming data in Flask and to handle incoming HTTP requests from clients and extract data from them, such as form data, query parameters, and headers, we have to use the request object. The request object holds all incoming data from the request, which includes the mimetype, referrer, IP address, raw data, HTTP method, and headers, among other things.\n"
   ]
  },
  {
   "attachments": {},
   "cell_type": "markdown",
   "metadata": {},
   "source": [
    "### ANS 3.\n",
    "\n",
    "The redirect() function in Flask when called, it returns a response object and redirects the user to another target location with specified status code.\n"
   ]
  },
  {
   "attachments": {},
   "cell_type": "markdown",
   "metadata": {},
   "source": [
    "### ANS 4.\n",
    "\n",
    "In Flask, templates are files that contain the structure and layout of web pages. They are typically written in HTML and can include dynamic content using template placeholders, also known as template variables. Flask uses a templating engine called Jinja2, which allows you to generate dynamic HTML pages by rendering templates with data.\n",
    "\n",
    "Templates in Flask provide a way to separate the presentation logic from the application logic. Instead of generating HTML code directly in your Python code, you can define templates that define the structure and appearance of your web pages. This separation of concerns makes it easier to maintain and modify your application's user interface.\n",
    "\n",
    "The render_template() function in Flask is used to render a template by combining it with the data provided. It takes the name of the template file as an argument and returns the rendered HTML content. \n",
    "\n",
    "```python\n",
    "from flask import Flask, render_template\n",
    "app = Flask(__name__)\n",
    "@app.route('/')\n",
    "def index():\n",
    "    # Some data to pass to the template\n",
    "    name = 'John Doe'\n",
    "    age = 25\n",
    "    return render_template('index.html', name=name, age=age)\n",
    "\n",
    "```\n",
    "\n",
    "When the user visits the \"/\" route of the Flask application, the index() function is called, and the render_template() function combines the \"index.html\" template with the provided data. The resulting HTML is sent back to the user's browser for display.\n",
    "\n",
    "By using render_template(), Flask enables us to build dynamic web applications where the content of the pages can change based on the data and logic in our Python code.\n"
   ]
  },
  {
   "attachments": {},
   "cell_type": "markdown",
   "metadata": {},
   "source": [
    "### ANS 5.\n",
    "\n",
    "![here](api.png)"
   ]
  }
 ],
 "metadata": {
  "language_info": {
   "name": "python"
  },
  "orig_nbformat": 4
 },
 "nbformat": 4,
 "nbformat_minor": 2
}
