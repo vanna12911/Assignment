{
  "nbformat": 4,
  "nbformat_minor": 0,
  "metadata": {
    "colab": {
      "provenance": []
    },
    "kernelspec": {
      "name": "python3",
      "display_name": "Python 3"
    },
    "language_info": {
      "name": "python"
    }
  },
  "cells": [
    {
      "cell_type": "markdown",
      "source": [
        "####ANS(1):\n",
        "<b> def </b> keyword is used to create a function in python.\n",
        "\n",
        "```python\n",
        "def func1():\n",
        "  odd_nums=[]\n",
        "  for i in range(1,25):\n",
        "    if i%2 != 0:\n",
        "      odd_nums.append(i)\n",
        "  return odd_nums\n",
        "\n",
        "func1()\n",
        "```"
      ],
      "metadata": {
        "id": "vga7mQcsCY_5"
      }
    },
    {
      "cell_type": "markdown",
      "source": [
        "####ANS(2):\n",
        "\\*args and **kwargs are used as parameters in function definitions to enable the function to accept an arbitrary number of arguments.\n",
        "\n",
        "\n",
        "\\*args allows a function to accept an arbitrary number of positional arguments, which are passed in as a tuple.\n",
        "\n",
        "**kwargs allows a function to accept an arbitrary number of keyword arguments, which are passed in as a dictionary.\n",
        "\n",
        "Using \\*args and **kwargs can make functions more flexible and able to handle a wider range of inputs.\n",
        "\n",
        "```python\n",
        "def max_numbers(*args):\n",
        "    return max(args)\n",
        "\n",
        "print(max_numbers(1, 2, 3, 4, 5))  # Output: 5\n",
        "print(max_numbers(1, 2, 3))        # Output: 3\n",
        "```\n",
        "\n",
        "```python\n",
        "def testt9(**kwargs):\n",
        "  for i in kwargs.keys():\n",
        "    print(f\"{i} : {kwargs[i]}\")\n",
        "\n",
        "testt9(a=21, b = \"Delhi\",c = [\"pista\",32,1,9])\n",
        "```\n",
        "\n",
        "The names args and kwargs are not special we can use any valid variable names instead.The asterisks are what make them special, indicating that they are used to collect an arbitrary number of arguments."
      ],
      "metadata": {
        "id": "fm4lMN0MGP52"
      }
    },
    {
      "cell_type": "markdown",
      "source": [
        "####ANS(3):\n",
        "An iterator in Python is an object that implements the iterator protocol, which consists of two methods: __iter__ and __next__.\n",
        "\n",
        "  The method used to initialize an iterator object in Python is __iter__().\n",
        "\n",
        "  The iter method returns the iterator object itself,The __iter__() method is called when an iterator object is created, and it should return the iterator object itself. The purpose of this method is to initialize any necessary state for the iterator.\n",
        "\n",
        "\n",
        "  The method used for iteration in Python is __next__().\n",
        "\n",
        "The __next__() method is called on an iterator object to retrieve the next value from the sequence it is iterating over. If there are no more values to return, the __next__() method should raise a StopIteration exception.\n",
        "\n",
        "```python \n",
        "l1=  [2, 4, 6, 8, 10, 12, 14, 16, 18,20]\n",
        "\n",
        "my_iter= iter(l1)\n",
        "\n",
        "print(next(my_iter))   # prints 2\n",
        "print(next(my_iter))   # prints 4              \n",
        "print(next(my_iter))   # prints 6                \n",
        "print(next(my_iter))   # prints 8                \n",
        "print(next(my_iter))   # prints 10                \n",
        "```"
      ],
      "metadata": {
        "id": "DvOQ7AMFcMS3"
      }
    },
    {
      "cell_type": "markdown",
      "source": [
        "####ANS(4):\n",
        " A generator is a function that returns an iterator that produces a sequence of values when iterated over. Generators are useful when we want to produce a large sequence of values, but we don't want to store all of them in memory at once.Generator Functions are memory efficient, as they save a lot of memory while using generators. \n",
        "  \n",
        "Yield keyword is used when we want to iterate over a sequence, but don't want to store the entire sequence in memory. Yield are used in Python generators. A generator function is defined like a normal function, but whenever it needs to generate a value, it does so with the yield keyword rather than return.\n",
        "\n",
        "Here's an example of generator function:\n",
        "\n",
        "\n",
        "```python\n",
        "def func1(a):\n",
        "  for i in a :\n",
        "    if i% 2!=0:\n",
        "      yield i\n",
        "\n",
        "l= [2,9,3,6,12,11,78,65]\n",
        "\n",
        "for i in func1(l):\n",
        "  print (i)\n",
        "\n",
        "```"
      ],
      "metadata": {
        "id": "dZ5HP_XAgz0Z"
      }
    },
    {
      "cell_type": "markdown",
      "source": [
        "####ANS(5):\n",
        "\n",
        "\n",
        "\n",
        "```python\n",
        "\n",
        "def prime_func():\n",
        "  for i in range(2,1000):\n",
        "    is_prime=True\n",
        "    for j in range(2,i):\n",
        "      if i % j ==0:\n",
        "        is_prime= False\n",
        "        break\n",
        "\n",
        "    if is_prime:\n",
        "      yield i \n",
        "\n",
        "\n",
        "\n",
        "my_iter =prime_func()\n",
        "\n",
        "for i in range(1,20):\n",
        "  print(next(my_iter))\n",
        "```"
      ],
      "metadata": {
        "id": "kWM_byeHqFKy"
      }
    }
  ]
}