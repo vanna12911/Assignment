{
  "nbformat": 4,
  "nbformat_minor": 0,
  "metadata": {
    "colab": {
      "provenance": []
    },
    "kernelspec": {
      "name": "python3",
      "display_name": "Python 3"
    },
    "language_info": {
      "name": "python"
    }
  },
  "cells": [
    {
      "cell_type": "markdown",
      "source": [
        "####ANS(1):\n",
        "Characteristics of tuples are:\n",
        "* Tuples are basically ordered sequence of elements of any datatype.\n",
        "*  These elements of tuples are enclosed within paranthesis (   ) separated by commas.\n",
        "* Tuples are immutable objects .\n",
        "\n",
        "<b>Yes, tuples are immutable, i.e they can't be changed or updated once created.</b>\n",
        "The only difference between a tuple and a list is that tuples are immutable apart from the fact that list elements are enclosed within [  ] square brackets and those of the tuples are enclosed within paranthesis (   )."
      ],
      "metadata": {
        "id": "xaTEVkozXh1M"
      }
    },
    {
      "cell_type": "markdown",
      "source": [
        "####ANS(2):\n",
        "The two types of tuple methods are :\n",
        "1. count()\n",
        "2. index()\n",
        "\n",
        "### count(  ) method  :\n",
        "Returns the number of times a specified value occurs in a tuple\n",
        "```python\n",
        "t1= (12,3,23.3,\"Nike\",6+2j)\n",
        "t1.count(12)\n",
        "```\n",
        "### index(  ) method  :\n",
        "Returns the index of first occurence of the element from the tuple.\n",
        "\n",
        "```python\n",
        "t1= (12,3,23.3,\"Nike\",6+2j)\n",
        "t1.index(\"Nike\")\n",
        "```\n",
        "\n",
        "Tuples only have two methods because a tuple once created can not be updated or changed i.e we cant add or remove a value from a tuple once created. \n",
        "\n",
        "That's why only two methods count(    ) and index(   ) are there in tuples.While these two methods may seem limited compared to the variety of methods available for other Python data structures like lists, dictionaries, and sets, they are sufficient for the basic use cases of tuples. \n",
        "\n",
        "\n",
        "\n"
      ],
      "metadata": {
        "id": "sEp0H2M7dIMX"
      }
    },
    {
      "cell_type": "markdown",
      "source": [
        "####ANS(3):\n",
        "  \n",
        "Set collection datatype doesn't allow duplicate items and sets are unordered sequence of elements too i.e neither the elements of sets can  be indexed nor they can be sliced.\n",
        "\n",
        "```python\n",
        "List = [1, 1, 1, 2, 1, 3, 1, 4, 2, 1, 2, 2, 2, 3, 2, 4, 3, 1, 3, 2, 3, 3, 3, 4, 4, 1, 4, 2, 4, 3, 4, 4]\n",
        "updated =  set(List)\n",
        "print(updated)\n",
        "```\n",
        "\n"
      ],
      "metadata": {
        "id": "ObL9Ds68hS2y"
      }
    },
    {
      "cell_type": "markdown",
      "source": [
        "####ANS(4):\n",
        "Both the methods union()  and update() produce the same ouput but the difference is that update() adds all missing elements to the set on which it is called i.e it permanently updates the set on which it hassbeen called whereas set. union() creates a new set altogether.\n",
        "\n",
        "```python\n",
        "s1= {1,2,5,3}\n",
        "s2= {6,3,8,2}\n",
        "\n",
        "print(s2.union(s1))  # returns {1, 2, 3, 5, 6, 8}\n",
        "\n",
        "s2.update(s1)\n",
        "print(s2)            # returns {1, 2, 3, 5, 6, 8}\n",
        "```"
      ],
      "metadata": {
        "id": "GOrI0s_6nWpb"
      }
    },
    {
      "cell_type": "markdown",
      "source": [
        "####ANS(5):\n",
        "In Python, a dictionary is a built-in data structure that allows you to store and retrieve data using key-value pairs and it is mutable and doesn't allow duplicates. A dictionary is created using a pair of curly braces, with key-value pairs separated by colons, like this:\n",
        "\n",
        "```python\n",
        "my_dict = {'key1': value1, 'key2': value2, 'key3': value3}\n",
        "```\n",
        "In Python 3.7 and earlier versions, dictionaries are unordered. This means that the key-value pairs in a dictionary do not have a specific order, and you cannot rely on the order of the items in a dictionary to remain the same over time.\n",
        "\n",
        "  Starting with Python 3.7, dictionaries are guaranteed to maintain the insertion order of their keys. This means that if you add items to a dictionary in a specific order, that order will be preserved when you iterate over the keys, values, or items of the dictionary.\n",
        "Dictionaries in Python 3.7 and later maintain insertion order i.e are ordered."
      ],
      "metadata": {
        "id": "guTdxAQgo1KZ"
      }
    },
    {
      "cell_type": "markdown",
      "source": [
        "####ANS(6):\n",
        "Yes , we can create  a nested dictionary.\n",
        "\n",
        "\n",
        "\n",
        "Here's an exmple of one-level nested dictionary.\n",
        "\n",
        "```python\n",
        "dict2 = {\"child1\" : {\"name\" : \"jhilmil\" , \"age\":7} , \"child2\" :{\"name\" : \"kashish\" , \"age \" :12}}\n",
        "```\n"
      ],
      "metadata": {
        "id": "ukf4LrMfv_7k"
      }
    },
    {
      "cell_type": "code",
      "source": [
        "# ANS(7) :\n",
        "\n",
        "dict1 = {'language' : 'Python', 'course': 'Data Science Masters'}\n",
        "\n",
        "dict1.setdefault(\"topics\" , [\"Python\" ,\"Machine Learning\" , \"Deep Learning\"])\n",
        "\n",
        "print(dict1)\n",
        "\n"
      ],
      "metadata": {
        "colab": {
          "base_uri": "https://localhost:8080/"
        },
        "id": "89ukWHGw07kP",
        "outputId": "f418bd1d-a961-4853-a49d-fa303a89434b"
      },
      "execution_count": 42,
      "outputs": [
        {
          "output_type": "stream",
          "name": "stdout",
          "text": [
            "{'language': 'Python', 'course': 'Data Science Masters', 'topics': ['Python', 'Machine Learning', 'Deep Learning']}\n"
          ]
        }
      ]
    },
    {
      "cell_type": "markdown",
      "source": [
        "####ANS(8):\n",
        " The three view objects in dictionaries are dict.keys() , dict.values() , dict.items()"
      ],
      "metadata": {
        "id": "3Wtcc4Ly2P80"
      }
    },
    {
      "cell_type": "markdown",
      "source": [
        "####ANS(9):\n",
        "There are mainly 3 view objects in dictionaries namely keys , values , items.\n",
        "\n",
        "```python \n",
        "dict1 = {'Sport': 'Cricket' , 'Teams': ['India', 'Australia', 'England', 'South Africa', 'Sri Lanka', 'New Zealand']}\n",
        "\n",
        "print(dict1.keys())\n",
        "print(dict1.values())\n",
        "print(dict1.items())\n",
        "```\n",
        "\n"
      ],
      "metadata": {
        "id": "x2PnpZv73a7V"
      }
    },
    {
      "cell_type": "code",
      "source": [],
      "metadata": {
        "id": "Boz_WsKS22Ha"
      },
      "execution_count": null,
      "outputs": []
    }
  ]
}