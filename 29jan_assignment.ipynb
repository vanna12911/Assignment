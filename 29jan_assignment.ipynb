{
  "nbformat": 4,
  "nbformat_minor": 0,
  "metadata": {
    "colab": {
      "provenance": []
    },
    "kernelspec": {
      "name": "python3",
      "display_name": "Python 3"
    },
    "language_info": {
      "name": "python"
    }
  },
  "cells": [
    {
      "cell_type": "markdown",
      "source": [
        "#### Ans(1) :\n",
        "\n",
        "Python was developed by Guido Van Rossum  and first released on Feb 20, 1991 ."
      ],
      "metadata": {
        "id": "afWhu-0EWehi"
      }
    },
    {
      "cell_type": "markdown",
      "source": [
        "#### Ans(2):\n",
        "Python is a multi-paradigam programming language. Object oriented and structured programming are fully supported and  many of their features support functional programming and aspect oriented programming."
      ],
      "metadata": {
        "id": "zpPpSbf9Xp82"
      }
    },
    {
      "cell_type": "markdown",
      "source": [
        "####Ans(3):\n",
        "Yes, python is a cse sensitive language therefore it deals both uppercase and lowercase identifiers differently."
      ],
      "metadata": {
        "id": "Rc6lu0HEYyrF"
      }
    },
    {
      "cell_type": "markdown",
      "source": [
        "####Ans(4):\n",
        "Correct extension of python file is <b>.py</b> , however in case of jupyter notebboks<b> .ipynb </b>is used"
      ],
      "metadata": {
        "id": "ihY33UfQaGAm"
      }
    },
    {
      "cell_type": "markdown",
      "source": [
        "####Ans(5):\n",
        "As per most genral belief python code is interpreted as python is an interpreted language but for most part, python is an interpreted language and a compiled one although compilation is a step because as we run a code, it is first compiled and then gets interpreted line by line. The compiled part gets deleted as soon as the code gets executed in python so that the programmer doesn't get into unnecessary complexity."
      ],
      "metadata": {
        "id": "VD-p38WGauW1"
      }
    },
    {
      "cell_type": "markdown",
      "source": [
        "####Ans(6):\n",
        "Indentation is used to define a block of code in python.\n",
        "To indent a block of code, we must indent each line of the block by same amount.In the example below , if-statement here is  indented four spaces, which is a typical amount of indentation for Python.\n",
        "\n",
        "```Python\n",
        "age  = int(input(\"Enter age\"))\n",
        "if age>18:\n",
        "    print(\"you are eligible to vote\")\n",
        "else:\n",
        "    print(\"you are not eligible to vote\")\n",
        "    "
      ],
      "metadata": {
        "id": "SqdbqGnlexT8"
      }
    },
    {
      "cell_type": "markdown",
      "source": [
        "####Ans(7):\n",
        "<b>#</b> is used for single line comment in python"
      ],
      "metadata": {
        "id": "zdgi_AwsfXA0"
      }
    },
    {
      "cell_type": "markdown",
      "source": [
        "####Ans(8):\n",
        "python version can be checked via ssimply running these commands in cmd/ terminal:\n",
        "#####1.  python -V method\n",
        "```python\n",
        "           python -V\n",
        "```\n",
        "#####2.  sys.version method\n",
        "```python\n",
        "import sys\n",
        "print(sys.version)\n",
        "```\n",
        "#####3. python version method\n",
        "```python\n",
        "from platform import python_version\n",
        "print(python_version())\n",
        "\n"
      ],
      "metadata": {
        "id": "jc8FiwOTi6aq"
      }
    },
    {
      "cell_type": "markdown",
      "source": [
        "####Ans(9):\n",
        "python supports the creation of anonymus functions during runtime using construct called <b> lambda </b>."
      ],
      "metadata": {
        "id": "Uj95Fq8flVfY"
      }
    },
    {
      "cell_type": "markdown",
      "source": [
        "####Ans(10):\n",
        "PIP stands for preferred installer package and is basically a pacakage manager that is used to install and manage packages written in python."
      ],
      "metadata": {
        "id": "rzZzYO0_lvqz"
      }
    },
    {
      "cell_type": "markdown",
      "source": [
        "####Ans(11):\n",
        "some built- in functions in python are :\n",
        "* print()\n",
        "* max()\n",
        "* min()\n",
        "* input()\n",
        "* sum()\n",
        "* range()\n",
        "* len()"
      ],
      "metadata": {
        "id": "ppX09OJ0mIz3"
      }
    },
    {
      "cell_type": "markdown",
      "source": [
        "####Ans(12):\n",
        "An identifier can have a maximum possible length of <b> 79 characters </b> only in python."
      ],
      "metadata": {
        "id": "iJTKwfzEmubo"
      }
    },
    {
      "cell_type": "markdown",
      "source": [
        "####Ans(13):\n",
        "* Simple to use and understand.\n",
        "* Free and open source.\n",
        "* python being versatile is used in web development , data science and many more fields  which makes python highly flexible which other languages lack.\n",
        "*  python being dynamically typed language, automatically allocates the datatype at runtime itself to the paramater we are talking about .\n",
        "* Extensive library support is there in python as python comes with a huge number of libraries, which includes almost every function imaginable."
      ],
      "metadata": {
        "id": "Tay7ho_GnSj9"
      }
    },
    {
      "cell_type": "markdown",
      "source": [
        "####Ans(14):\n",
        "Memory management in Python involves a private heap containing all Python objects and data structures. The management of this private heap is ensured internally by the Python memory manager.\n",
        "\n",
        "There are two types of memory:\n",
        "* Stack memory \n",
        "* Heap memory\n",
        "\n",
        "and basically two types of memory allocation is there:\n",
        "\n",
        "1. <u>Static memory </u>\n",
        "\n",
        "  The stack data structure provides static memory allocation, meaning the variables are in the stack memory. Statically assigned variables, as the name implies, are permanent; this means that they must be allocated in advance and persist for the duration of the program. Another point to remember is that we cannot reuse the memory allocated in the stack memory. Therefore, memory reusability is not possible.\n",
        "\n",
        "2. <u> Dynamic memory </u>\n",
        "\n",
        "  The dynamic memory allocation uses heap data structures in its implementation, implying that variables are in the heap memory. As the name suggests, dynamically allocated variables are not permanent and can be changed while a program is running. Additionally, allotted memory can be relinquished and reused. However, it takes longer to complete because dynamic memory allocation occurs during program execution. Furthermore, after utilizing the allocated memory, we must release it. Otherwise, problems such as memory leaks might arise.\n"
      ],
      "metadata": {
        "id": "TkkgIxNgpBQl"
      }
    },
    {
      "cell_type": "markdown",
      "source": [
        "####Ans(15):\n",
        " ### Installing python: \n",
        "1. Select Version of Python to download from python.org\n",
        "2. Download Python Executable Installer and install it\n",
        "3. To check if Python 3.9.4 has been successfully installed in our system,\n",
        "\n",
        "* Open Cmd prompt in  system\n",
        "\n",
        "* Run “ Python -V”\n",
        " \n",
        "### Adding path:\n",
        "1.  Right click on My Computer and click on properties.\n",
        "2.  Click on Advanced System settings\n",
        "3.  Click on Environment Variable tab.\n",
        "4. Click on new tab of user variables.\n",
        "5.  Write path in variable name.\n",
        "6.  Copy the path of Python folder.\n",
        "7. Paste path of Python in variable value.\n",
        "8. Click on Ok button.\n",
        "\n",
        "####  Verification of installation of python in Windows:\n",
        "1. To check if Python 3.9.4 has been successfully installed in our system,\n",
        "\n",
        "* Open Cmd prompt in your system\n",
        "* Run “ Python -V”\n"
      ],
      "metadata": {
        "id": "u_6uLmvzr95H"
      }
    },
    {
      "cell_type": "markdown",
      "source": [
        "####Ans(16):\n",
        "Identation is mandatory in python to define a block of code because without indentation code will throw error at if - else statements and loops as well . It is preferred to use white spaces instead of tabs to indent in python. python uses four spaces as default identation space while in other programming languages indentation is for code readability only."
      ],
      "metadata": {
        "id": "6sOfHAYJqwiB"
      }
    }
  ]
}