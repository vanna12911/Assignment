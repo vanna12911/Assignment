{
  "nbformat": 4,
  "nbformat_minor": 0,
  "metadata": {
    "colab": {
      "provenance": []
    },
    "kernelspec": {
      "name": "python3",
      "display_name": "Python 3"
    },
    "language_info": {
      "name": "python"
    }
  },
  "cells": [
    {
      "cell_type": "markdown",
      "source": [
        "###ANS(1):\n",
        "An exception is an event, which occurs during the execution of a program that disrupts the normal flow of the program's instructions. In general, when a Python script encounters a situation that it cannot cope with, it raises an exception. An exception is a Python object that represents an error.\n",
        "\n",
        "* <u>Difference b/w syntax error and Exceptions:</u>\n",
        "\n",
        "1. Syntax errors:\n",
        "A syntax error occurs when the code violates the grammar rules of the Python language. These errors happen during the compilation of the code, and the interpreter raises a syntax error message, indicating where the error occurred in the code. Syntax errors must be fixed before the code can be executed. Some common examples of syntax errors include missing parentheses, incorrect indentation, and misspelled keywords.\n",
        "\n",
        "2. Exceptions:\n",
        "An exception is a run-time error that occurs when the program is running. Exceptions can happen for many reasons, such as trying to access a non-existent file, dividing by zero, or calling a method that doesn't exist. When an exception is raised, the program halts, and the interpreter displays a traceback message, indicating where the exception occurred in the code. Exceptions can be handled using try/except blocks, which allow the program to catch the exception and handle it gracefully, rather than crashing.\n",
        "\n",
        "\n",
        "In summary, syntax errors happen during the compilation of the code and must be fixed before the code can be executed, while exceptions occur during the execution of the code and can be caught and handled using try/except blocks."
      ],
      "metadata": {
        "id": "wB3M_LQpUgzJ"
      }
    },
    {
      "cell_type": "markdown",
      "source": [
        "###ANS(2):\n",
        "when an exception is not handled , program terminates abruptly and raises an error message providing information about the exception.This is known as the unhandled exception.\n",
        "\n",
        "Here's an example of an unhandled exception:"
      ],
      "metadata": {
        "id": "xGQntFteYxt2"
      }
    },
    {
      "cell_type": "code",
      "execution_count": 1,
      "metadata": {
        "colab": {
          "base_uri": "https://localhost:8080/",
          "height": 171
        },
        "id": "XDk9Bq5lUIo8",
        "outputId": "a8702a05-d608-47e9-e7f1-5ada869828d4"
      },
      "outputs": [
        {
          "output_type": "error",
          "ename": "ZeroDivisionError",
          "evalue": "ignored",
          "traceback": [
            "\u001b[0;31m---------------------------------------------------------------------------\u001b[0m",
            "\u001b[0;31mZeroDivisionError\u001b[0m                         Traceback (most recent call last)",
            "\u001b[0;32m<ipython-input-1-ccce04661380>\u001b[0m in \u001b[0;36m<module>\u001b[0;34m\u001b[0m\n\u001b[0;32m----> 1\u001b[0;31m \u001b[0mx\u001b[0m \u001b[0;34m=\u001b[0m\u001b[0;36m10\u001b[0m\u001b[0;34m/\u001b[0m\u001b[0;36m0\u001b[0m\u001b[0;34m\u001b[0m\u001b[0;34m\u001b[0m\u001b[0m\n\u001b[0m",
            "\u001b[0;31mZeroDivisionError\u001b[0m: division by zero"
          ]
        }
      ],
      "source": [
        "x =10/0"
      ]
    },
    {
      "cell_type": "markdown",
      "source": [
        "In this code, the program attempts to divide 10 by 0, which is not a valid mathematical operation and will result in a division by zero exception. Since there is no try/except block to handle this exception, the program will terminate with the following error message:\n",
        "```python\n",
        "ZeroDivisionError: division by zero\n",
        "```\n",
        "\n",
        "In summary, when an exception is not handled in Python, the program will terminate abruptly with an error message that provides information about the exception. It's important to handle exceptions appropriately to prevent unexpected program termination and provide a better user experience."
      ],
      "metadata": {
        "id": "KN4inthxZiJS"
      }
    },
    {
      "cell_type": "markdown",
      "source": [
        "###ANS(3):\n",
        "Try and except statements are used to catch and handle exceptions in Python. Statements that can raise exceptions are kept inside the try clause and the statements that handle the exception are written inside except clause."
      ],
      "metadata": {
        "id": "h07DPIsZaJYd"
      }
    },
    {
      "cell_type": "code",
      "source": [
        "a= [1,2,3,4]\n",
        "try :\n",
        "  a[4]\n",
        "\n",
        "except Exception as e:\n",
        "  print(\"handling exception :  \", e)"
      ],
      "metadata": {
        "colab": {
          "base_uri": "https://localhost:8080/"
        },
        "id": "wLt1peQOZXjE",
        "outputId": "94b7fb35-f6db-4f5b-fef0-8fd5721b91de"
      },
      "execution_count": 5,
      "outputs": [
        {
          "output_type": "stream",
          "name": "stdout",
          "text": [
            "handling exception :   list index out of range\n"
          ]
        }
      ]
    },
    {
      "cell_type": "markdown",
      "source": [
        "###ANS(4):\n"
      ],
      "metadata": {
        "id": "7UU3BquCcwps"
      }
    },
    {
      "cell_type": "code",
      "source": [
        "# try and except block\n",
        "\n",
        "try:\n",
        "    num1 = int(input(\"Enter a number: \"))\n",
        "    num2 = int(input(\"Enter another number: \"))\n",
        "    result = num1 / num2\n",
        "except ZeroDivisionError:\n",
        "    print(\"Error: Cannot divide by zero.\")\n",
        "else:\n",
        "    print(\"Result:\", result)\n"
      ],
      "metadata": {
        "id": "H5KMyBcvDbwv"
      },
      "execution_count": null,
      "outputs": []
    },
    {
      "cell_type": "code",
      "source": [
        "# finally\n",
        "\n",
        "try:\n",
        "    num1 = int(input(\"Enter a number: \"))\n",
        "    num2 = int(input(\"Enter another number: \"))\n",
        "    result = num1 / num2\n",
        "except ZeroDivisionError:\n",
        "    print(\"Error: Cannot divide by zero.\")\n",
        "else:\n",
        "    print(\"Result:\", result)\n",
        "finally:\n",
        "  print(\"it gets printed as it is no matter what\")"
      ],
      "metadata": {
        "id": "u4UpCmRDDlQO"
      },
      "execution_count": null,
      "outputs": []
    },
    {
      "cell_type": "code",
      "source": [
        "# raise : raise keyword is basically used to raise a custom exception\n",
        "\n",
        "\n",
        "bank_balance = 50000\n",
        "withdrawal_amount = int(input(\"Enter the amount to be withdrawn\"))\n",
        "\n",
        "class Acc(Exception):\n",
        "  def __init__(self , msg):\n",
        "    self.msg =msg\n",
        "\n",
        "\n",
        "def acc_managment(withdrawal_amount):\n",
        "  if withdrawal_amount >bank_balance:\n",
        "    raise Acc(\"not sufficient balance \")\n",
        "\n",
        "  elif withdrawal_amount>20000:\n",
        "\n",
        "    raise Acc(\"can withdraw only 20,000 at once\")\n"
      ],
      "metadata": {
        "colab": {
          "base_uri": "https://localhost:8080/"
        },
        "id": "fLpe3aEWeQn6",
        "outputId": "fa9dccc6-6cef-4d12-8c63-26a597dbf8f0"
      },
      "execution_count": 13,
      "outputs": [
        {
          "name": "stdout",
          "output_type": "stream",
          "text": [
            "Enter the amount to be withdrawn22000\n"
          ]
        }
      ]
    },
    {
      "cell_type": "code",
      "source": [
        "try:\n",
        "  withdrawal_amount = int(input(\"Enter amount to be withdrawn: \"))\n",
        "  acc_managment(withdrawal_amount)\n",
        "\n",
        "except Acc as e:\n",
        "  print(e)\n",
        "\n"
      ],
      "metadata": {
        "colab": {
          "base_uri": "https://localhost:8080/"
        },
        "id": "npCP3ZquIrLa",
        "outputId": "012d03d2-6ec4-4b46-d1c4-8fa412740da7"
      },
      "execution_count": 15,
      "outputs": [
        {
          "output_type": "stream",
          "name": "stdout",
          "text": [
            "Enter amount to be withdrawn: 22000\n",
            "can withdrwa only 20,000 at once\n"
          ]
        }
      ]
    },
    {
      "cell_type": "markdown",
      "source": [
        "###ANS(5):\n",
        "In Python, custom exceptions are user-defined exceptions that are created by the programmer to handle specific situations that are not covered by the built-in exceptions. Custom exceptions allow developers to define their own exception classes and raise them when certain conditions occur in their programs.\n",
        "\n",
        "We need custom exceptions in Python for the following reasons:\n",
        "1. To provide more specific error messages to the user: Sometimes, the built-in exceptions do not provide enough information to the user about the exact cause of the error. In such cases, custom exceptions can be used to provide more specific error messages that can help the user to understand the issue and resolve it quickly.\n",
        "\n",
        "2. To handle specific situations: Custom exceptions can be used to handle specific situations that are not covered by the built-in exceptions. For example, if you are developing a program that deals with financial transactions, you may need to create a custom exception for insufficient funds.\n",
        "\n",
        "```python\n",
        "\n",
        "class InsufficientFundsError(Exception):\n",
        "    pass\n",
        "\n",
        "\n",
        "def withdraw_money(balance, amount):\n",
        "    if balance < amount:\n",
        "        raise InsufficientFundsError(\"Not enough funds to withdraw\")\n",
        "    else:\n",
        "        balance -= amount\n",
        "        print(\"Withdrawal successful\")\n",
        "\n",
        "\n",
        "balance = 100\n",
        "withdraw_money(balance, 50)    # Output: Withdrawal successful\n",
        "withdraw_money(balance, 150)   # Output: InsufficientFundsError: Not enough funds to withdraw\n",
        "\n"
      ],
      "metadata": {
        "id": "1MO4uA-pWdba"
      }
    },
    {
      "cell_type": "code",
      "source": [
        "class CustomException(Exception):\n",
        "    def __init__(self, message):\n",
        "        self.message = message\n",
        "\n",
        "try:\n",
        "    # code that may raise an exception\n",
        "    raise CustomException(\"This is a custom exception\")\n",
        "\n",
        "except CustomException as e:\n",
        "    print(e.message)\n"
      ],
      "metadata": {
        "colab": {
          "base_uri": "https://localhost:8080/"
        },
        "id": "gQDMUBncJkGb",
        "outputId": "4e4f43e4-5bb3-4498-ba46-8f44f1ceba52"
      },
      "execution_count": 16,
      "outputs": [
        {
          "output_type": "stream",
          "name": "stdout",
          "text": [
            "This is a custom exception\n"
          ]
        }
      ]
    },
    {
      "cell_type": "markdown",
      "source": [
        "### ANS(6):\n",
        "\n",
        " Suppose we are building a program that processes data from multiple sources, and we need to verify that the data format is correct before processing it. We want to raise an exception if the data format is invalid."
      ],
      "metadata": {
        "id": "uN_QBG_6ZEot"
      }
    },
    {
      "cell_type": "code",
      "source": [
        "class InvalidDataFormatError(Exception):\n",
        "    def __init__(self, message):\n",
        "        super().__init__(message)\n",
        "\n",
        "def process_data(data):\n",
        "    \n",
        "    if not isinstance(data, dict):\n",
        "        raise InvalidDataFormatError(\"Data format should be a dictionary\")\n",
        "\n",
        "    \n",
        "\n",
        "try:\n",
        "    data = \"some data\"\n",
        "    process_data(data)\n",
        "except InvalidDataFormatError as e:\n",
        "    print(\"Caught InvalidDataFormatError:\", e)\n"
      ],
      "metadata": {
        "colab": {
          "base_uri": "https://localhost:8080/"
        },
        "id": "77NLUAlnXpao",
        "outputId": "3e7a18be-7c13-4ec2-ac1b-7d0c33cc3f6b"
      },
      "execution_count": 17,
      "outputs": [
        {
          "output_type": "stream",
          "name": "stdout",
          "text": [
            "Caught InvalidDataFormatError: Data format should be a dictionary\n"
          ]
        }
      ]
    },
    {
      "cell_type": "markdown",
      "source": [
        " In this example, we define a custom exception class InvalidDataFormatError that inherits from the built-in Exception class. We define an __init__ method to set the error message for the exception.\n",
        "\n",
        "We then define a function process_data that checks if the data is in the correct format. If it's not in the correct format, we raise an InvalidDataFormatError exception.\n",
        " \n",
        " \n",
        " Finally, we use a try-except block to catch any InvalidDataFormatError that might be raised when calling process_data. If an exception is raised, we catch it in the except block and print out the error message.\n",
        "\n",
        " This allows us to handle the specific exception that is relevant to our program's logic and provide a clear error message to the user, making it easier to identify and fix any issues that might arise."
      ],
      "metadata": {
        "id": "znk3k98ZZazH"
      }
    },
    {
      "cell_type": "code",
      "source": [],
      "metadata": {
        "id": "q3x_8EX2ZHpH"
      },
      "execution_count": null,
      "outputs": []
    }
  ]
}