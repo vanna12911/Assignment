{
  "nbformat": 4,
  "nbformat_minor": 0,
  "metadata": {
    "colab": {
      "provenance": []
    },
    "kernelspec": {
      "name": "python3",
      "display_name": "Python 3"
    },
    "language_info": {
      "name": "python"
    }
  },
  "cells": [
    {
      "cell_type": "markdown",
      "source": [
        "\n",
        "#### ANS(1):\n",
        "\n",
        "MongoDB is a popular non-relational database management system (DBMS) that uses a document-oriented data model. It is designed to store and manage large volumes of structured, semi-structured, and unstructured data, making it suitable for a wide range of use cases, including web applications, analytics, and real-time data processing.\n",
        "\n",
        "Non-relational databases, also known as NoSQL databases, are a class of databases that do not use the traditional table-based relational database model. Instead, they use alternative data models such as document-oriented, key-value, column-family, or graph databases. Non-relational databases are often preferred for their ability to handle large volumes of unstructured data and their ability to scale horizontally.\n",
        "\n",
        "MongoDB is often preferred over SQL databases in scenarios where the data is unstructured or semi-structured, and requires a flexible schema. It is particularly well-suited for handling big data, real-time data processing, and large-scale web applications. MongoDB's document-oriented data model allows for easy integration with object-oriented programming languages, making it a popular choice for developers.\n",
        "\n",
        "Additionally, MongoDB's distributed architecture makes it highly scalable and fault-tolerant, allowing it to handle large volumes of data and traffic without sacrificing performance. Finally, MongoDB's rich querying capabilities and support for indexing and aggregation make it a powerful tool for data analysis and reporting.\n"
      ],
      "metadata": {
        "id": "Vk3-sO3cuv4J"
      }
    },
    {
      "cell_type": "markdown",
      "source": [
        "#### ANS(2):\n",
        "MongoDB is a document-oriented NoSQL database management system that is designed to handle unstructured and semi-structured data. Here are some of its key features:\n",
        "\n",
        "1. Document-Oriented Data Model: MongoDB uses a document-oriented data model, which means that data is stored as documents, rather than in tables. Each document is self-contained and contains all the relevant data for a particular entity.\n",
        "\n",
        "2. Dynamic Schema: MongoDB has a dynamic schema, which means that documents can have different structures and fields. This makes it easier to store and manage unstructured data.\n",
        "\n",
        "3. Flexible Querying: MongoDB has a powerful query language that allows you to perform complex queries on your data. It supports ad-hoc queries, indexing, sorting, and aggregation, making it easy to extract meaningful insights from your data.\n",
        "\n",
        "4. Scalability: MongoDB is designed to be scalable, both horizontally and vertically. You can add more nodes to your cluster to increase capacity and handle more traffic. Additionally, MongoDB's sharding feature allows you to distribute your data across multiple nodes to ensure high availability and fault tolerance.\n",
        "\n",
        "5. High Availability: MongoDB is designed to be highly available, with features such as automatic failover and replica sets. This means that if one node in your cluster goes down, another node can take over and ensure that your application continues to function normally.\n",
        "\n",
        "6. Rich APIs and Integrations: MongoDB has rich APIs and integrations with popular programming languages such as Java, Python, and Node.js. It also integrates with popular data visualization and analytics tools, such as Tableau and Power BI.\n",
        "\n",
        "Overall, MongoDB's document-oriented data model, dynamic schema, flexible querying, scalability, high availability, and rich APIs make it a popular choice for developers and organizations that need to manage and analyze large volumes of unstructured data."
      ],
      "metadata": {
        "id": "Cg0mcJFTu052"
      }
    },
    {
      "cell_type": "markdown",
      "source": [
        "#### ANS(3):\n",
        "To connect MongoDB to Python, we can use the PyMongo library, which is the official Python driver for MongoDB. \n",
        "\n",
        "```python\n",
        "import pymongo\n",
        "\n",
        "# Connect to MongoDB\n",
        "client = pymongo.MongoClient(\"mongodb://localhost:27017/\")\n",
        "\n",
        "# Create a database\n",
        "mydb = client[\"university_record\"]\n",
        "\n",
        "# Create a collection\n",
        "mycol = mydb[\"college_record\"]\n",
        "```\n",
        "In the above code, we first import the PyMongo library. We then use the MongoClient class to connect to the MongoDB instance running on localhost on port 27017. We specify the name of the database we want to connect to as mydatabase.\n",
        "\n",
        "Next, we create a new database named mydatabase using the client object. We then create a collection named college_record using the mydb object.\n",
        "\n",
        "Note that the database and collection are not created until we insert data into them. To insert data, we can use the insert_one() or insert_many() methods of the collection object.\n",
        "\n",
        "\n",
        "\n"
      ],
      "metadata": {
        "id": "FDOi1xLSxSp2"
      }
    },
    {
      "cell_type": "markdown",
      "source": [
        "### ANS(4):\n",
        "```python\n",
        "data1 = {\"name\": \"Jordan Fisher\" , \"course\" : \"Financing\"}\n",
        "\n",
        "input = mycol.insert_one(data)\n",
        "\n",
        "\n",
        "data2= [{\"_id\":6, \"name\" : \"Andrew\" , \"courses\" : [\"data_science_masters\" ,\"web_dev\" , \"java_with_Dsa\"]},\n",
        "{\"_id\" : 8 ,\"name\" :\"stewart\",\"courses\":[\"web_Dev\",\"blockhchain\",\"finance\"]},\n",
        "{\"_id\" : 9,\"name\": \"calire\" ,\"courses\" :[\"web_dev\" ,\"devops\",\"software_dev\" ,\"app_dev\"]}]\n",
        "\n",
        "mycol.insert_many(data2)\n",
        "\n",
        "for i in mycol.find():  #prints all the documents\n",
        "    print(i)\n",
        "\n",
        "mycol.find_one()  # displays first document\n",
        "\n",
        "\n",
        "  ```"
      ],
      "metadata": {
        "id": "ZBBh1i8U7EB1"
      }
    },
    {
      "cell_type": "markdown",
      "source": [
        "### ANS(5):\n",
        "```python \n",
        "for j in mycol.find({\"courses\":\"web_Dev\"):\n",
        "  print(j)\n",
        "\n",
        "for k in mycol.find({\"_id\" : {\"$gte\" : 6}}):\n",
        "  print(k)\n"
      ],
      "metadata": {
        "id": "jF9GJN8R009K"
      }
    },
    {
      "cell_type": "markdown",
      "source": [
        "### ANS(6):\n",
        "In MongoDB, the sort() method is used to sort the documents returned by a query in either ascending or descending order based on the specified field(s). The sort() method takes a document that specifies the fields to sort by and the order in which to sort them.\n",
        "\n",
        "Basic syntax goes like:\n",
        "\n",
        "```python\n",
        "db.collection.find().sort({ field1: order1, field2: order2, ... })\n",
        "\n",
        "```\n",
        "where collection is the name of the collection, find() specifies the query criteria, and field1, field2, etc. are the fields to sort by, and order1, order2, etc. are the sort orders (either 1 for ascending order or -1 for descending order).\n",
        "\n",
        "Suppose we have a collection called students with the following documents:\n",
        "\n",
        "```python\n",
        "{ name: \"Alice\", age: 20, grade: \"A\" }\n",
        "{ name: \"Bob\", age: 18, grade: \"B\" }\n",
        "{ name: \"Charlie\", age: 22, grade: \"C\" }\n",
        "```\n",
        "```python\n",
        "db.students.find().sort({ age: 1 })  # sorts in ascending order by age \n",
        "```\n",
        "Returns:\n",
        "```python\n",
        "{ name: \"Bob\", age: 18, grade: \"B\" }\n",
        "{ name: \"Alice\", age: 20, grade: \"A\" }\n",
        "{ name: \"Charlie\", age: 22, grade: \"C\" }\n",
        "```\n",
        "\n",
        "```python\n",
        "db.students.find().sort({ grade: -1 }) # sorts in descending order by grade\n",
        "```\n",
        "\n",
        "Returns:\n",
        "```python\n",
        "{ name: \"Charlie\", age: 22, grade: \"C\" }\n",
        "{ name: \"Alice\", age: 20, grade: \"A\" }\n",
        "{ name: \"Bob\", age: 18, grade: \"B\" }\n",
        "\n",
        "```\n",
        "\n"
      ],
      "metadata": {
        "id": "P-JmnM2GAVI4"
      }
    },
    {
      "cell_type": "markdown",
      "source": [
        "#### ANS(7):\n",
        "In MongoDB, the delete_one(), delete_many(), and drop() methods are used to remove data from a collection or an entire database.\n",
        "\n",
        "* delete_one() method: This method is used to delete a single document from a collection that matches a specified filter. It takes a filter as an argument, which is used to identify the document to delete. If multiple documents match the filter, only the first document found will be deleted.\n",
        "\n",
        "* delete_many() method: This method is used to delete multiple documents from a collection that match a specified filter. It takes a filter as an argument, which is used to identify the documents to delete. If multiple documents match the filter, all of them will be deleted.\n",
        "\n",
        "* drop() method: This method is used to drop an entire collection or a database. Dropping a collection removes all the documents from the collection, while dropping a database removes all the collections in the database. It is a destructive operation and should be used with caution.\n",
        "\n",
        "These methods are useful when you need to remove unwanted or outdated data from your database. For example, you may want to delete a specific document that is no longer relevant, or you may want to delete all the documents that meet a certain criteria. The drop() method is particularly useful when you need to completely delete a collection or database, such as when you are cleaning up after a test or demo environment."
      ],
      "metadata": {
        "id": "LbNyPiY3CWXW"
      }
    }
  ]
}