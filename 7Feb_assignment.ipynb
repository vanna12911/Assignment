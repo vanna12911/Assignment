{
  "nbformat": 4,
  "nbformat_minor": 0,
  "metadata": {
    "colab": {
      "provenance": []
    },
    "kernelspec": {
      "name": "python3",
      "display_name": "Python 3"
    },
    "language_info": {
      "name": "python"
    }
  },
  "cells": [
    {
      "cell_type": "code",
      "source": [
        "#ANS(1):\n",
        "\n",
        "import re\n",
        "\n",
        "def check_password():\n",
        "\n",
        "    password= input(\"enter your password: \")\n",
        "    # check length of password\n",
        "    if len(password) < 10:\n",
        "        return \"Invalid Password\"\n",
        "    \n",
        "    # check for uppercase letters\n",
        "    uppercase_regex = r'[A-Z]'\n",
        "    if len(re.findall(uppercase_regex, password)) < 2:\n",
        "        return \"Invalid Password\"\n",
        "    \n",
        "    # check for lowercase letters\n",
        "    lowercase_regex = r'[a-z]'\n",
        "    if len(re.findall(lowercase_regex, password)) < 2:\n",
        "        return \"Invalid Password\"\n",
        "    \n",
        "    # check for numbers\n",
        "    number_regex = r'\\d'\n",
        "    if len(re.findall(number_regex, password)) < 1:\n",
        "        return \"Invalid Password\"\n",
        "    \n",
        "    # check for special characters\n",
        "    special_regex = r'[\\W_]'\n",
        "    if len(re.findall(special_regex, password)) < 3:\n",
        "        return \"Invalid Password\"\n",
        "    \n",
        "    # if all checks pass, return valid password\n",
        "    return \"Valid Password\"\n",
        "\n",
        "\n",
        "check_password()"
      ],
      "metadata": {
        "colab": {
          "base_uri": "https://localhost:8080/",
          "height": 54
        },
        "id": "q_F84RAD2INE",
        "outputId": "4e8260e5-cbcb-462a-fe88-02f8978120b2"
      },
      "execution_count": 37,
      "outputs": [
        {
          "name": "stdout",
          "output_type": "stream",
          "text": [
            "enter your password: AleX52.here@ok#78!\n"
          ]
        },
        {
          "output_type": "execute_result",
          "data": {
            "text/plain": [
              "'Valid Password'"
            ],
            "application/vnd.google.colaboratory.intrinsic+json": {
              "type": "string"
            }
          },
          "metadata": {},
          "execution_count": 37
        }
      ]
    },
    {
      "cell_type": "code",
      "source": [
        "#ANS(2):\n",
        "\n",
        "# Check if the string starts with a particular letter\n",
        "name= \"Pistachio\"\n",
        "\n",
        "check = lambda x: x.startswith(\"P\")\n",
        "check(name)\n",
        "\n"
      ],
      "metadata": {
        "colab": {
          "base_uri": "https://localhost:8080/"
        },
        "id": "crWUSvzy39xY",
        "outputId": "d7619d01-b623-4e81-fc13-e02aea57ef34"
      },
      "execution_count": 39,
      "outputs": [
        {
          "output_type": "execute_result",
          "data": {
            "text/plain": [
              "True"
            ]
          },
          "metadata": {},
          "execution_count": 39
        }
      ]
    },
    {
      "cell_type": "code",
      "source": [
        "#Check if the string is numeric\n",
        "\n",
        "Roll_no =  \"52\"\n",
        "\n",
        "check = lambda x: x.isnumeric()\n",
        "check(Roll_no)\n"
      ],
      "metadata": {
        "colab": {
          "base_uri": "https://localhost:8080/"
        },
        "id": "Qn3VOjKA4cfP",
        "outputId": "df78644e-ca5c-45af-b108-2df29d727b47"
      },
      "execution_count": 48,
      "outputs": [
        {
          "output_type": "execute_result",
          "data": {
            "text/plain": [
              "True"
            ]
          },
          "metadata": {},
          "execution_count": 48
        }
      ]
    },
    {
      "cell_type": "code",
      "source": [
        "# Sort a list of tuples having fruit names and their quantity. [(\"mango\",99),(\"orange\",80), (\"grapes\", 1000)]\n",
        "\n",
        "fruits = [(\"mango\",99),(\"orange\",80), (\"grapes\", 1000)]\n",
        "\n",
        "sorted_fruits = sorted(fruits, key=lambda x: x[1], reverse=True)\n",
        "\n",
        "print(sorted_fruits)"
      ],
      "metadata": {
        "colab": {
          "base_uri": "https://localhost:8080/"
        },
        "id": "XHJHG5yG4zq7",
        "outputId": "5507cdba-7f5a-4836-d517-649f60ee76ec"
      },
      "execution_count": 18,
      "outputs": [
        {
          "output_type": "execute_result",
          "data": {
            "text/plain": [
              "[('grapes', 1000), ('mango', 99), ('orange', 80)]"
            ]
          },
          "metadata": {},
          "execution_count": 18
        }
      ]
    },
    {
      "cell_type": "code",
      "source": [
        "# Find the squares of numbers from 1 to 10\n",
        "\n",
        "l= list((range(1,11)))\n",
        "l = [i**2 for i in l]\n",
        "l\n",
        "      "
      ],
      "metadata": {
        "colab": {
          "base_uri": "https://localhost:8080/"
        },
        "id": "cyuf5zEJ4-QO",
        "outputId": "ce4cbc50-4224-4885-e7be-3103df12890e"
      },
      "execution_count": 14,
      "outputs": [
        {
          "output_type": "execute_result",
          "data": {
            "text/plain": [
              "[1, 4, 9, 16, 25, 36, 49, 64, 81, 100]"
            ]
          },
          "metadata": {},
          "execution_count": 14
        }
      ]
    },
    {
      "cell_type": "code",
      "source": [
        "# Find the cube root of numbers from 1 to 10\n",
        "import numpy as np\n",
        "l= list((range(1,11)))\n",
        "\n",
        "[np.cbrt(i) for i in l]\n"
      ],
      "metadata": {
        "colab": {
          "base_uri": "https://localhost:8080/"
        },
        "id": "vyD_9ruG54-b",
        "outputId": "fd09cec3-4aaf-4ae9-8a80-1e9cf4e99ac1"
      },
      "execution_count": 15,
      "outputs": [
        {
          "output_type": "execute_result",
          "data": {
            "text/plain": [
              "[1.0,\n",
              " 1.2599210498948734,\n",
              " 1.4422495703074083,\n",
              " 1.5874010519681996,\n",
              " 1.7099759466766968,\n",
              " 1.8171205928321394,\n",
              " 1.9129311827723894,\n",
              " 2.0,\n",
              " 2.080083823051904,\n",
              " 2.1544346900318834]"
            ]
          },
          "metadata": {},
          "execution_count": 15
        }
      ]
    },
    {
      "cell_type": "code",
      "source": [
        "# Check if a given number is even\n",
        "even = lambda x : x%2==0\n",
        "even(2)"
      ],
      "metadata": {
        "colab": {
          "base_uri": "https://localhost:8080/"
        },
        "id": "E-5Fuzvg76Eh",
        "outputId": "a37b033c-6363-4423-fcad-41674199e128"
      },
      "execution_count": 21,
      "outputs": [
        {
          "output_type": "execute_result",
          "data": {
            "text/plain": [
              "True"
            ]
          },
          "metadata": {},
          "execution_count": 21
        }
      ]
    },
    {
      "cell_type": "code",
      "source": [
        "#  Filter odd numbers from the given list\n",
        "l=[1,2,3,4,5,6,7,8,9,10]\n",
        "[i for i in l if i%2!=0]"
      ],
      "metadata": {
        "colab": {
          "base_uri": "https://localhost:8080/"
        },
        "id": "vNEh4FJz93hx",
        "outputId": "a0e16981-169c-4da5-876a-f5a7c0fffefa"
      },
      "execution_count": 27,
      "outputs": [
        {
          "output_type": "execute_result",
          "data": {
            "text/plain": [
              "[1, 3, 5, 7, 9]"
            ]
          },
          "metadata": {},
          "execution_count": 27
        }
      ]
    },
    {
      "cell_type": "code",
      "source": [
        "# Sort a list of integers into positive and negative integers lists.\n",
        "l= [1,2,3,4,5,6,-1,-2,-3,-4,-5,0]\n",
        "\n",
        "positive_integers =[i for i in l if i>0]\n",
        "negative_integers =[i for i in l if i<0]\n",
        "\n",
        "print(positive_integers)\n",
        "print(negative_integers)\n",
        "\n"
      ],
      "metadata": {
        "colab": {
          "base_uri": "https://localhost:8080/"
        },
        "id": "9_a8ckhD-v7J",
        "outputId": "775bd5d2-9af9-4c01-f3d4-47a592e4e7ea"
      },
      "execution_count": 46,
      "outputs": [
        {
          "output_type": "stream",
          "name": "stdout",
          "text": [
            "[1, 2, 3, 4, 5, 6]\n",
            "[-1, -2, -3, -4, -5]\n"
          ]
        }
      ]
    }
  ]
}