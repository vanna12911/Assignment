{
  "nbformat": 4,
  "nbformat_minor": 0,
  "metadata": {
    "colab": {
      "provenance": []
    },
    "kernelspec": {
      "name": "python3",
      "display_name": "Python 3"
    },
    "language_info": {
      "name": "python"
    }
  },
  "cells": [
    {
      "cell_type": "markdown",
      "source": [
        "####ANS(1):\n",
        "\n",
        "```python\n",
        "list1 = [1,2,3,4, [44,55,66, True], False, (34,56,78,89,34), {1,2,3,3,2,1}, {1:34, \"key2\": [55, 67, 78, 89], 4: (45,\n",
        "22, 61, 34)}, [56, 'data science'], 'Machine Learning']\n",
        "\n",
        "from functools import reduce\n",
        "\n",
        "def product_of_numbers(l):\n",
        "\n",
        "  n=[]\n",
        "\n",
        "  for i in l:\n",
        "\n",
        "    if type(i)==list:\n",
        "      for j in i:\n",
        "        if type(j) == int:\n",
        "          n.append(j)\n",
        "\n",
        "    elif type(i) == tuple:\n",
        "      for j in i:\n",
        "        if type(j) ==int:\n",
        "          n.append(j)\n",
        "\n",
        "    elif type(i)== dict:\n",
        "      for j,k in i.items():\n",
        "        if type(j)==int:\n",
        "          n.append(j)\n",
        "        if type(k)==int:\n",
        "          n.append(k)\n",
        "\n",
        "    elif type(i) ==int:\n",
        "      n.append(i)\n",
        "\n",
        "\n",
        "  return reduce(lambda x,y : x*y , n)\n",
        "              \n",
        "\n",
        "\n",
        "product_of_numbers(list1)    # output : 13119822185539829760\n",
        "\n",
        "```\n"
      ],
      "metadata": {
        "id": "x5YOzVVunwjZ"
      }
    },
    {
      "cell_type": "markdown",
      "source": [
        "####ANS(2):\n",
        "```python\n",
        "\n",
        "str1 = \"I want to become a Data Scientist.\"\n",
        "def modification(str2):\n",
        "  str2 = str2.lower()\n",
        "  str2=str2.replace('a',\"z\").replace('b','y').replace('c','x').replace(\" \",\"$\")\n",
        "\n",
        "  return str2\n",
        "\n",
        "\n",
        "modification(str1)  # output : i$wznt$to$yexome$z$dztz$sxientist.\n",
        "\n",
        "```"
      ],
      "metadata": {
        "id": "Z_F2YvZ9oSAp"
      }
    }
  ]
}