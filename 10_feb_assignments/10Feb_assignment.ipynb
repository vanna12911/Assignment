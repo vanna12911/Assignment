{
 "cells": [
  {
   "attachments": {},
   "cell_type": "markdown",
   "metadata": {},
   "source": [
    "#### ANS(1):\n",
    "An in-built function called as <b>open()</b> function is used to open files in python.\n",
    "\n",
    "```python\n",
    "f = open(filename, mode)\n",
    "```\n",
    "At the time of opening, we have to specify the mode, which represents the purpose of the opening file.\n",
    "Where the following modes are supported:\n",
    "\n",
    "* r: open an existing file for a read operation.\n",
    "* w: open an existing file for a write operation. If the file already contains some data then it will be overridden but if the file  is not present then it creates the file as well.\n",
    "* a:  open an existing file for append operation. It won’t override existing data.\n",
    "* r+:  To read and write data into the file. The previous data in the file will be overridden.\n",
    "* w+: To write and read data. It will override existing data.\n",
    "* a+: To append and read data from the file. It won’t override existing data.\n",
    "\n"
   ]
  },
  {
   "attachments": {},
   "cell_type": "markdown",
   "metadata": {},
   "source": [
    "#### ANS(2):\n",
    "The close() method closes an open file. You should always close your files, in some cases, due to buffering, changes made to a file may not show until you close the file.\n",
    "\n",
    "When you write into the file, the file may not get modified right away due to buffering. That implies that the memory buffer of the file is modified but the change is not immediately reflected into the file on disk.\n",
    "Python doesn't flush the buffer—that is, write data to the file—until it's sure you're done writing, and one way to do this is to close the file. If you write to a file without closing, the data won't make it to the target file\n",
    "\n"
   ]
  },
  {
   "cell_type": "code",
   "execution_count": 1,
   "metadata": {},
   "outputs": [
    {
     "name": "stdout",
     "output_type": "stream",
     "text": [
      "I want to become a Data Scientist.\n"
     ]
    }
   ],
   "source": [
    "# ANS(3):\n",
    "\n",
    "with open(\"testing.txt\" , \"w\") as f:\n",
    "    f.write(\"I want to become a Data Scientist.\")\n",
    "\n",
    "f.close()\n",
    "\n",
    "with open(\"testing.txt\" , \"r\") as f:\n",
    "    print(f.read())"
   ]
  },
  {
   "cell_type": "code",
   "execution_count": 21,
   "metadata": {},
   "outputs": [],
   "source": [
    "#  ANS(4):\n",
    "with open(\"data.txt\", \"w\") as x:\n",
    "    x.write('''Data science is an interdisciplinary academic field that uses statistics, scientific computing, scientific methods, processes, algorithms and systems to extract or extrapolate knowledge and insights from noisy, structured, and unstructured data.Data science also integrates domain knowledge from the underlying application domain (e.g., natural sciences, information technology, and medicine). Data science is multifaceted and can be described as a science, a research paradigm, a research method, a discipline, a workflow, and a profession.\n",
    "Data science is a \"concept to unify statistics, data analysis, informatics, and their related methods\" in order to \"understand and analyse actual phenomena\" with data.[5] It uses techniques and theories drawn from many fields within the context of mathematics, statistics, computer science, information science, and domain knowledge.[6] However, data science is different from computer science and information science. Turing Award winner Jim Gray imagined data science as a \"fourth paradigm\" of science (empirical, theoretical, computational, and now data-driven) and asserted that \"everything about science is changing because of the impact of information technology\" and the data deluge.''')\n",
    "\n",
    "x.close()\n",
    "\n"
   ]
  },
  {
   "attachments": {},
   "cell_type": "markdown",
   "metadata": {},
   "source": [
    "* <b>readline(): </b> This method is used to read a single line from a file. It returns the line as a string including the newline character. If it reaches the end of the file, it returns an empty string."
   ]
  },
  {
   "cell_type": "code",
   "execution_count": 44,
   "metadata": {},
   "outputs": [
    {
     "name": "stdout",
     "output_type": "stream",
     "text": [
      "Data science is an i\n"
     ]
    }
   ],
   "source": [
    "x= open(\"data.txt\" , \"r\")\n",
    "print(x.readline(20)) \n",
    "x.close()\n"
   ]
  },
  {
   "attachments": {},
   "cell_type": "markdown",
   "metadata": {},
   "source": [
    "* <b>readlines(): </b>This method is used to read all the lines of a file and return them as a list of strings. Each string in the list includes the newline character. "
   ]
  },
  {
   "cell_type": "code",
   "execution_count": 37,
   "metadata": {},
   "outputs": [
    {
     "name": "stdout",
     "output_type": "stream",
     "text": [
      "['Data science is an interdisciplinary academic field that uses statistics, scientific computing, scientific methods, processes, algorithms and systems to extract or extrapolate knowledge and insights from noisy, structured, and unstructured data.Data science also integrates domain knowledge from the underlying application domain (e.g., natural sciences, information technology, and medicine). Data science is multifaceted and can be described as a science, a research paradigm, a research method, a discipline, a workflow, and a profession.\\n', 'Data science is a \"concept to unify statistics, data analysis, informatics, and their related methods\" in order to \"understand and analyse actual phenomena\" with data.[5] It uses techniques and theories drawn from many fields within the context of mathematics, statistics, computer science, information science, and domain knowledge.[6] However, data science is different from computer science and information science. Turing Award winner Jim Gray imagined data science as a \"fourth paradigm\" of science (empirical, theoretical, computational, and now data-driven) and asserted that \"everything about science is changing because of the impact of information technology\" and the data deluge.']\n"
     ]
    }
   ],
   "source": [
    "x= open(\"data.txt\" , \"r\")\n",
    "print(x.readlines()) \n",
    "x.close()"
   ]
  },
  {
   "attachments": {},
   "cell_type": "markdown",
   "metadata": {},
   "source": [
    "* <b>read():</b> This method is used to read the entire content of a file as a single string. It takes an optional argument which specifies the number of bytes to read. If no argument is provided, it reads the entire file."
   ]
  },
  {
   "cell_type": "code",
   "execution_count": 38,
   "metadata": {},
   "outputs": [
    {
     "name": "stdout",
     "output_type": "stream",
     "text": [
      "Data science is an interdisciplinary academic field that uses statistics, scientific computing, scientific methods, processes, algorithms and systems to extract or extrapolate knowledge and insights from noisy, structured, and unstructured data.Data science also integrates domain knowledge from the underlying application domain (e.g., natural sciences, information technology, and medicine). Data science is multifaceted and can be described as a science, a research paradigm, a research method, a discipline, a workflow, and a profession.\n",
      "Data science is a \"concept to unify statistics, data analysis, informatics, and their related methods\" in order to \"understand and analyse actual phenomena\" with data.[5] It uses techniques and theories drawn from many fields within the context of mathematics, statistics, computer science, information science, and domain knowledge.[6] However, data science is different from computer science and information science. Turing Award winner Jim Gray imagined data science as a \"fourth paradigm\" of science (empirical, theoretical, computational, and now data-driven) and asserted that \"everything about science is changing because of the impact of information technology\" and the data deluge.\n"
     ]
    }
   ],
   "source": [
    "x= open(\"data.txt\" , \"r\")\n",
    "print(x.read()) \n",
    "x.close()"
   ]
  },
  {
   "attachments": {},
   "cell_type": "markdown",
   "metadata": {},
   "source": [
    "#### ANS(5):\n",
    "The with statement is used with open() to ensure that the file is properly closed after its suite (indented block of code) finishes, even if an exception is raised while the suite is executing. This way, we don't have to explicitly close the file using close() method.\n",
    "\n",
    "The advantage of using the with statement and open() together is that it makes our code cleaner and more readable, and also ensures that the file is always properly closed, even if an error occurs. It simplifies the process of working with files, as we don't have to worry about forgetting to close the file or handling exceptions that may occur while working with the file.\n",
    "\n",
    "```python\n",
    "with open(\"example.txt\", \"r\") as file:\n",
    "    content = file.read()\n",
    "    print(content)\n",
    "```\n",
    "\n",
    "In this example, we are opening the file \"example.txt\" in read mode and assigning the file object to a variable called file. We then read the contents of the file and print them to the console. Finally, the file is automatically closed when the with block is exited, regardless of whether an exception occurred or not."
   ]
  },
  {
   "attachments": {},
   "cell_type": "markdown",
   "metadata": {},
   "source": [
    "#### ANS(6):\n",
    "write() and writelines() are Python file object methods used to write data to files.\n",
    "\n",
    "* <b>write()</b> method is used to write a string to a file. It takes a string as an argument and writes it to the file. If the file doesn't exist, it will create a new file with the given name. If the file already exists, it will overwrite the existing content.\n",
    "\n",
    "```python\n",
    "\n",
    "file = open(\"example.txt\", \"w\")\n",
    "file.write(\"This is an example file.\")\n",
    "file.close()\n",
    "```\n",
    "\n",
    "* <b>writelines()</b> method is used to write a list of strings to a file. It takes a list of strings as an argument and writes them to the file. Each string is written as a separate line. If the file doesn't exist, it will create a new file with the given name. If the file already exists, it will overwrite the existing content. \n",
    "\n",
    "```python\n",
    "\n",
    "file = open(\"example.txt\", \"w\")\n",
    "lines = [\"This is line 1.\\n\", \"This is line 2.\\n\", \"This is line 3.\\n\"]\n",
    "file.writelines(lines)\n",
    "file.close()\n",
    "```\n",
    "In this example, we first open the file \"example.txt\" in write mode and assign the file object to a variable called file. We then create a list of strings called lines and use the writelines() method to write the contents of the list to the file. Each string in the list is written as a separate line. Finally, the file is closed using the close() method.\n",
    "\n",
    "we don't have to manually add newline characters to each string in the list because the writelines() method automatically adds them. Also, as mentioned earlier, if the file already exists, it will overwrite the existing content. If we want to add new content to an existing file without overwriting the existing content, we can open the file in append mode by using \"a\" instead of \"w\" in the open() function\n",
    "\n"
   ]
  },
  {
   "cell_type": "code",
   "execution_count": null,
   "metadata": {},
   "outputs": [],
   "source": []
  }
 ],
 "metadata": {
  "kernelspec": {
   "display_name": "Python 3",
   "language": "python",
   "name": "python3"
  },
  "language_info": {
   "codemirror_mode": {
    "name": "ipython",
    "version": 3
   },
   "file_extension": ".py",
   "mimetype": "text/x-python",
   "name": "python",
   "nbconvert_exporter": "python",
   "pygments_lexer": "ipython3",
   "version": "3.8.10"
  },
  "orig_nbformat": 4,
  "vscode": {
   "interpreter": {
    "hash": "31f2aee4e71d21fbe5cf8b01ff0e069b9275f58929596ceb00d14d90e3e16cd6"
   }
  }
 },
 "nbformat": 4,
 "nbformat_minor": 2
}
