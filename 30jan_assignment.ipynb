{
 "cells": [
  {
   "cell_type": "code",
   "execution_count": 34,
   "metadata": {},
   "outputs": [
    {
     "name": "stdout",
     "output_type": "stream",
     "text": [
      "Grade : B\n"
     ]
    }
   ],
   "source": [
    "#  ANS(1) :\n",
    "\n",
    "percentage = int(input(\"Enter your % : \"))\n",
    "\n",
    "if percentage > 90:\n",
    "    print(\"Grdae : A\")\n",
    "\n",
    "elif percentage <= 90 and percentage > 80:\n",
    "    print(\"Grade : B\")\n",
    "\n",
    "elif percentage <= 80 and percentage >= 60:\n",
    "    print(\"Grade : C\")\n",
    "\n",
    "elif percentage < 60 and percentage > 0:\n",
    "    print(\"Grade : D\")\n",
    "    \n",
    "else:\n",
    "    print(\"Invalid Input\")\n"
   ]
  },
  {
   "cell_type": "code",
   "execution_count": 35,
   "metadata": {},
   "outputs": [
    {
     "name": "stdout",
     "output_type": "stream",
     "text": [
      "9500.0\n"
     ]
    }
   ],
   "source": [
    "# ANS(2):\n",
    "\n",
    "CP = int(input(\"Enter your CP of your bike \"))\n",
    "\n",
    "tax= 0\n",
    "\n",
    "if CP > 100000:\n",
    "    tax = (CP * 0.15)\n",
    "    print(tax)\n",
    "\n",
    "elif CP <= 100000 and CP>50000:\n",
    "    tax = (CP*0.1)\n",
    "    print(tax)\n",
    "\n",
    "elif CP <=50000 :\n",
    "    tax = (CP* 0.05)\n",
    "    print(tax)\n",
    "\n",
    "else :\n",
    "    print(\"Invalid Input\")\n"
   ]
  },
  {
   "cell_type": "code",
   "execution_count": 37,
   "metadata": {},
   "outputs": [
    {
     "name": "stdout",
     "output_type": "stream",
     "text": [
      "Jal Mahal\n"
     ]
    }
   ],
   "source": [
    "# ANS(3) :\n",
    "\n",
    "d1 = {\"delhi\" : \"Red Fort\" , \"agra\" : \"Taj Mahal\" , \"jaipur\" : \"Jal Mahal\"}\n",
    "monument  = input(\"Enter city: \")\n",
    "\n",
    "print(d1[monument.lower()])"
   ]
  },
  {
   "cell_type": "code",
   "execution_count": 38,
   "metadata": {},
   "outputs": [
    {
     "name": "stdout",
     "output_type": "stream",
     "text": [
      "5\n"
     ]
    }
   ],
   "source": [
    "# ANS(4):\n",
    "\n",
    "num= int(input(\"Enter your number:  \"))\n",
    "\n",
    "i =0 \n",
    "while num>10:\n",
    "    num  = num / 3 \n",
    "    i+=1\n",
    "\n",
    "print(i)"
   ]
  },
  {
   "attachments": {},
   "cell_type": "markdown",
   "metadata": {},
   "source": [
    "ANS(5):\n",
    "\n",
    "A While Loop is used to repeat a specific block of code an unknown number of times, until a condition is met. For example, if we want to ask a user for a number between 1 and 10, we don't know how many times the user may enter a larger number, so we keep asking \"while the number is not between 1 and 10\".\n",
    "\n",
    "while loops are used in python whenever  we dont know how many times we need to iterate through the loop.\n",
    "\n",
    "Python while loop is used to run a block code until a certain condition is met. Here, A while loop evaluates the condition. If the condition evaluates to True , the code inside the while loop is executed.\n",
    "\n",
    "You would use a while loop when you need to repeatedly execute a block of code until a particular condition is met. For example, you might use a while loop to repeatedly ask a user for input until they enter a valid response. \n",
    "\n",
    "```python\n",
    "    while True:\n",
    "    name = input(\"What is your name? \")\n",
    "    if name:\n",
    "        break\n",
    "    else:\n",
    "        print(\"Please enter a name.\")\n",
    "```\n",
    "\n",
    "The main reason that While is much slower is because the while loop checks the condition after each iteration, so if you are going to write this code, just use a for loop instead.\n",
    "\n",
    "\n",
    "\n"
   ]
  },
  {
   "cell_type": "code",
   "execution_count": 44,
   "metadata": {},
   "outputs": [
    {
     "name": "stdout",
     "output_type": "stream",
     "text": [
      "* \n",
      "* * \n",
      "* * * \n",
      "* * * * \n",
      "* * * * * \n",
      "* * * * * * \n"
     ]
    }
   ],
   "source": [
    "# ANS(6) :\n",
    "\n",
    "# first pattern\n",
    "n = int(input('Enter number of rows : '))\n",
    "\n",
    "i = 1\n",
    "while i <= n :\n",
    "    j = 1\n",
    "    while j <= i:\n",
    "        print(\"*\", end = \" \")\n",
    "        j += 1\n",
    "    print()\n",
    "    i += 1"
   ]
  },
  {
   "cell_type": "code",
   "execution_count": 45,
   "metadata": {},
   "outputs": [
    {
     "name": "stdout",
     "output_type": "stream",
     "text": [
      "* * * * * * \n",
      "* * * * * \n",
      "* * * * \n",
      "* * * \n",
      "* * \n",
      "* \n"
     ]
    }
   ],
   "source": [
    "# ANS(6) :\n",
    "\n",
    "# Second pattern\n",
    "n = int(input('Enter number of rows : '))\n",
    "\n",
    "i = 1\n",
    "while i <= n :\n",
    "    j = n\n",
    "    while j >= i:\n",
    "        print(\"*\", end = \" \")\n",
    "        j -= 1\n",
    "    print()\n",
    "    i += 1"
   ]
  },
  {
   "cell_type": "code",
   "execution_count": 46,
   "metadata": {},
   "outputs": [
    {
     "name": "stdout",
     "output_type": "stream",
     "text": [
      "     * \n",
      "    * * \n",
      "   * * * \n",
      "  * * * * \n",
      " * * * * * \n",
      "* * * * * * \n"
     ]
    }
   ],
   "source": [
    "# ANS(6) :\n",
    "\n",
    "# Third pattern\n",
    "n = int(input('Enter the number of rows: '))\n",
    "\n",
    "i = 1\n",
    "while i<=n:\n",
    "      \n",
    "    print(\" \"*(n-i) + \"* \" * i)\n",
    "    i+=1 "
   ]
  },
  {
   "cell_type": "code",
   "execution_count": 24,
   "metadata": {},
   "outputs": [
    {
     "name": "stdout",
     "output_type": "stream",
     "text": [
      "10\n",
      "9\n",
      "8\n",
      "7\n",
      "6\n",
      "5\n",
      "4\n",
      "3\n",
      "2\n",
      "1\n"
     ]
    }
   ],
   "source": [
    "# ANS(7):\n",
    "\n",
    "i=10\n",
    "while i>=1:\n",
    "    print(i)\n",
    "    i-=1"
   ]
  },
  {
   "cell_type": "code",
   "execution_count": 25,
   "metadata": {},
   "outputs": [
    {
     "name": "stdout",
     "output_type": "stream",
     "text": [
      "10\n",
      "9\n",
      "8\n",
      "7\n",
      "6\n",
      "5\n",
      "4\n",
      "3\n",
      "2\n",
      "1\n"
     ]
    }
   ],
   "source": [
    "# ANS(8):\n",
    "\n",
    "i=10\n",
    "while i>=1:\n",
    "    print(i)\n",
    "    i-=1"
   ]
  },
  {
   "cell_type": "code",
   "execution_count": null,
   "metadata": {},
   "outputs": [],
   "source": []
  }
 ],
 "metadata": {
  "kernelspec": {
   "display_name": "Python 3",
   "language": "python",
   "name": "python3"
  },
  "language_info": {
   "codemirror_mode": {
    "name": "ipython",
    "version": 3
   },
   "file_extension": ".py",
   "mimetype": "text/x-python",
   "name": "python",
   "nbconvert_exporter": "python",
   "pygments_lexer": "ipython3",
   "version": "3.8.10"
  },
  "orig_nbformat": 4,
  "vscode": {
   "interpreter": {
    "hash": "916dbcbb3f70747c44a77c7bcd40155683ae19c65e1c03b4aa3499c5328201f1"
   }
  }
 },
 "nbformat": 4,
 "nbformat_minor": 2
}
