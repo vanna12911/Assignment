{
  "nbformat": 4,
  "nbformat_minor": 0,
  "metadata": {
    "colab": {
      "provenance": []
    },
    "kernelspec": {
      "name": "python3",
      "display_name": "Python 3"
    },
    "language_info": {
      "name": "python"
    }
  },
  "cells": [
    {
      "cell_type": "code",
      "execution_count": 26,
      "metadata": {
        "id": "5OF7EsZ_RbBu"
      },
      "outputs": [],
      "source": [
        "#  ANS(1) :\n",
        "\n",
        "class vehicle:\n",
        "\n",
        "  def __init__(self,name_of_vehicle,max_speed,average_of_vehicle):\n",
        "    self.name_of_vehicle = name_of_vehicle\n",
        "    self.max_speed = max_speed\n",
        "    self.average_of_vehicle = average_of_vehicle\n",
        "\n",
        "\n",
        "  def start(self):\n",
        "    print(f\"{self.name_of_vehicle} is starting\")\n",
        "\n",
        "\n",
        "my_obj = vehicle(\"Thar\",200,15)\n",
        "my_obj.start()"
      ]
    },
    {
      "cell_type": "code",
      "source": [
        "#    ANS(2):\n",
        "\n",
        "class vehicle:\n",
        "\n",
        "  def __init__(self,name_of_vehicle,max_speed,average_of_vehicle):\n",
        "    self.name_of_vehicle = name_of_vehicle\n",
        "    self.max_speed = max_speed\n",
        "    self.average_of_vehicle = average_of_vehicle\n",
        "\n",
        "\n",
        "  def start(self):\n",
        "    print(f\"{self.name_of_vehicle} is starting\")\n",
        "\n",
        "\n",
        "my_obj = vehicle(\"Thar\",200,15)\n",
        "\n",
        "\n",
        "\n",
        "class car(vehicle):\n",
        "\n",
        "  def __init__(self,name_of_vehicle,max_speed,average_of_vehicle):\n",
        "    super().__init__(name_of_vehicle,max_speed,average_of_vehicle)\n",
        "\n",
        "  def seating_capacity(self, capacity):\n",
        "    print(f\"{self.name_of_vehicle}  has a seating capacity of {capacity}\")\n",
        "\n",
        "\n",
        "car1 = car(\"Porsche\",200,16)\n",
        "car1.seating_capacity(4)\n"
      ],
      "metadata": {
        "colab": {
          "base_uri": "https://localhost:8080/"
        },
        "id": "ICmWoDmrTJ-_",
        "outputId": "f490fcbe-4e90-443f-d8ff-9788bde3bb60"
      },
      "execution_count": 27,
      "outputs": [
        {
          "output_type": "stream",
          "name": "stdout",
          "text": [
            "Porsche  has a seating capacity of 4\n"
          ]
        }
      ]
    },
    {
      "cell_type": "markdown",
      "source": [
        "####ANS(3):\n",
        "Multiple inheritance:\n",
        "When a subclass inherits properties and methods from multiple base classes, it is called multiple inheritance.\n",
        "\n",
        "```python\n",
        "class A:\n",
        "    def method_a(self):\n",
        "        print(\"Method A\")\n",
        "\n",
        "\n",
        "class B:\n",
        "    def method_b(self):\n",
        "        print(\"Method B\")\n",
        "\n",
        "class C(A, B):\n",
        "    def method_c(self):\n",
        "        print(\"Method C\")\n",
        "\n",
        "\n",
        "my_c = C()\n",
        "my_c.method_a()     # Output: Method A\n",
        "my_c.method_b()     # Output: Method B\n",
        "my_c.method_c()     # Output: Method C\n",
        "```"
      ],
      "metadata": {
        "id": "UiblCS4vZFbs"
      }
    },
    {
      "cell_type": "markdown",
      "source": [
        "####ANS(4):\n",
        "\n",
        "* Getters: These are the methods used in Object-Oriented Programming (OOPS) which helps to access the private attributes from a class.\n",
        "\n",
        "* Setters: These are the methods used in OOPS feature which helps to set the value to private attributes in a class."
      ],
      "metadata": {
        "id": "JzmNkqOOamZt"
      }
    },
    {
      "cell_type": "code",
      "source": [
        "class pwskills:\n",
        "\n",
        "  def __init__(self, course_name, course_price):\n",
        "    self.course_name = course_name\n",
        "    self.__course_price  = course_price\n",
        "\n",
        "  @property                                                       \n",
        "  def course_price_access(self):                        # getter\n",
        "    return self.__course_price\n",
        "\n",
        "  \n",
        "  @course_price_access.setter                             # setter\n",
        "  def course_price_set(self, price):\n",
        "    if price<=3500:\n",
        "      pass\n",
        "\n",
        "    else:\n",
        "      self.__course_price = price\n",
        "\n",
        "\n",
        "  @course_price_access.deleter                              # deleter\n",
        "  def course_price_delete(self):\n",
        "    del self.__course_price\n",
        "\n",
        "\n",
        "pw = pwskills(\"data science masters\" ,3500 )\n"
      ],
      "metadata": {
        "id": "heB2nThwV1J_"
      },
      "execution_count": 36,
      "outputs": []
    },
    {
      "cell_type": "code",
      "source": [
        "pw.course_price_access"
      ],
      "metadata": {
        "colab": {
          "base_uri": "https://localhost:8080/"
        },
        "id": "1zzYx1YSc2SH",
        "outputId": "82a2e91d-c3c0-4978-cc3a-0952280024a6"
      },
      "execution_count": 37,
      "outputs": [
        {
          "output_type": "execute_result",
          "data": {
            "text/plain": [
              "3500"
            ]
          },
          "metadata": {},
          "execution_count": 37
        }
      ]
    },
    {
      "cell_type": "code",
      "source": [
        "pw.course_price_set =4500"
      ],
      "metadata": {
        "id": "V0bVvf1zg8aT"
      },
      "execution_count": 38,
      "outputs": []
    },
    {
      "cell_type": "code",
      "source": [
        "pw.course_price_access\n"
      ],
      "metadata": {
        "colab": {
          "base_uri": "https://localhost:8080/"
        },
        "id": "d_AqV8SVhVl8",
        "outputId": "9be31828-2374-42b3-cb43-8c21ac16d5b1"
      },
      "execution_count": 39,
      "outputs": [
        {
          "output_type": "execute_result",
          "data": {
            "text/plain": [
              "4500"
            ]
          },
          "metadata": {},
          "execution_count": 39
        }
      ]
    },
    {
      "cell_type": "code",
      "source": [
        "del pw.course_price_delete"
      ],
      "metadata": {
        "id": "4HDrW6hvhjOr"
      },
      "execution_count": 40,
      "outputs": []
    },
    {
      "cell_type": "markdown",
      "source": [
        "####ANS(5):\n",
        "Method overriding is a mechanism in object-oriented programming (OOP) where a child class defines a method with the same name as a method in its parent class, thereby replacing the functionality of the parent method with its own. This is a way of customizing the behavior of the parent method in the child class.\n",
        "\n",
        "Here is an example of method overriding in Python:"
      ],
      "metadata": {
        "id": "oDVxkah6fYy_"
      }
    },
    {
      "cell_type": "code",
      "source": [
        "class Animal:\n",
        "    def make_sound(self):\n",
        "        print(\"The animal makes a sound.\")\n",
        "\n",
        "class Cat(Animal):\n",
        "    def make_sound(self):\n",
        "        print(\"Meow!\")\n",
        "\n",
        "class Dog(Animal):\n",
        "    def make_sound(self):\n",
        "        print(\"Woof!\")\n",
        "\n",
        "animal = Animal()\n",
        "cat = Cat()\n",
        "dog = Dog()\n",
        "\n",
        "animal.make_sound()  # The animal makes a sound.\n",
        "cat.make_sound()     # Meow!\n",
        "dog.make_sound()     # Woof!\n"
      ],
      "metadata": {
        "colab": {
          "base_uri": "https://localhost:8080/"
        },
        "id": "MbbpCwOedGgw",
        "outputId": "c4ede789-d3b2-42c2-bdcb-03a00b5968ff"
      },
      "execution_count": 28,
      "outputs": [
        {
          "output_type": "stream",
          "name": "stdout",
          "text": [
            "The animal makes a sound.\n",
            "Meow!\n",
            "Woof!\n"
          ]
        }
      ]
    },
    {
      "cell_type": "markdown",
      "source": [
        "In the above example, we have defined an Animal class with a make_sound method that prints a generic sound. We have also defined two child classes Cat and Dog that inherit from Animal. Both Cat and Dog have their own make_sound methods that override the parent make_sound method.\n",
        "\n",
        "When we create an instance of Animal and call its make_sound method, it prints \"The animal makes a sound.\" When we create instances of Cat and Dog and call their make_sound methods, they print \"Meow!\" and \"Woof!\", respectively. This demonstrates how the child classes have overridden the behavior of the parent method."
      ],
      "metadata": {
        "id": "vuCVJmZ-gRJ_"
      }
    }
  ]
}