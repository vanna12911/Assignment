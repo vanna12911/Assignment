{
  "nbformat": 4,
  "nbformat_minor": 0,
  "metadata": {
    "colab": {
      "provenance": []
    },
    "kernelspec": {
      "name": "python3",
      "display_name": "Python 3"
    },
    "language_info": {
      "name": "python"
    }
  },
  "cells": [
    {
      "cell_type": "code",
      "execution_count": 1,
      "metadata": {
        "colab": {
          "base_uri": "https://localhost:8080/"
        },
        "id": "Xv2npbn5uv4Q",
        "outputId": "44f9d6ba-f3e7-4854-9db1-fc816f502fe7"
      },
      "outputs": [
        {
          "output_type": "stream",
          "name": "stdout",
          "text": [
            "this is my testing file.\n"
          ]
        }
      ],
      "source": [
        "print(\"this is my testing file.\")"
      ]
    },
    {
      "cell_type": "code",
      "source": [],
      "metadata": {
        "id": "qarSM-Gtu0hR"
      },
      "execution_count": null,
      "outputs": []
    }
  ]
}